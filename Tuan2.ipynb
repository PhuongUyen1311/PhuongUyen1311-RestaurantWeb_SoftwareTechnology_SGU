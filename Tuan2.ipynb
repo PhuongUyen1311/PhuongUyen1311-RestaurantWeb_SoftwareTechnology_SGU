{
  "nbformat": 4,
  "nbformat_minor": 0,
  "metadata": {
    "colab": {
      "provenance": [],
      "toc_visible": true,
      "mount_file_id": "1cqn-3GVp-ipbAeYzusQNI7x2q3IZKm_q",
      "authorship_tag": "ABX9TyO0oCbaHmiBrVsJXW3Mv/pV",
      "include_colab_link": true
    },
    "kernelspec": {
      "name": "python3",
      "display_name": "Python 3"
    },
    "language_info": {
      "name": "python"
    }
  },
  "cells": [
    {
      "cell_type": "markdown",
      "metadata": {
        "id": "view-in-github",
        "colab_type": "text"
      },
      "source": [
        "<a href=\"https://colab.research.google.com/github/PhuongUyen1311/PhuongUyen1311-RestaurantWeb_SoftwareTechnology_SGU/blob/master/Tuan2.ipynb\" target=\"_parent\"><img src=\"https://colab.research.google.com/assets/colab-badge.svg\" alt=\"Open In Colab\"/></a>"
      ]
    },
    {
      "cell_type": "markdown",
      "source": [
        "#GHI_ĐỌC_XÓA FILE\n"
      ],
      "metadata": {
        "id": "TjXpanxRapCX"
      }
    },
    {
      "cell_type": "code",
      "execution_count": null,
      "metadata": {
        "colab": {
          "base_uri": "https://localhost:8080/"
        },
        "id": "fp_VKUaqQ9rD",
        "outputId": "42b596b1-483c-4597-d0a6-215000bdb342"
      },
      "outputs": [
        {
          "output_type": "stream",
          "name": "stdout",
          "text": [
            "File đã được tạo tại: /content/drive/MyDrive/NgonNguLapTrinh_PYTHON/Tuan2_87_Nguyễn Huỳnh Phương Uyên/example.txt\n"
          ]
        }
      ],
      "source": [
        "import os\n",
        "\n",
        "file_path = \"/content/drive/MyDrive/NgonNguLapTrinh_PYTHON/Tuan2_87_Nguyễn Huỳnh Phương Uyên/example.txt\"\n",
        "\n",
        "# Mở file ở chế độ ghi (sẽ tạo mới nếu chưa tồn tại)\n",
        "with open(file_path, 'w') as file:\n",
        "    # Ghi nội dung vào file\n",
        "    file.write(\"Đây là nội dung của file example.txt.\\n\")\n",
        "    file.write(\"Bạn có thể thêm nhiều dòng khác ở đây.\")\n",
        "\n",
        "print(f\"File đã được tạo tại: {file_path}\")"
      ]
    },
    {
      "cell_type": "code",
      "source": [],
      "metadata": {
        "id": "6X3_5Inyax9r"
      },
      "execution_count": null,
      "outputs": []
    },
    {
      "cell_type": "code",
      "source": [
        "# tạo file example.txt\n",
        "# Đường dẫn tới thư mục\n",
        "file_path = \"/content/drive/MyDrive/NgonNguLapTrinh_PYTHON/Tuan2_87_Nguyễn Huỳnh Phương Uyên/5 điều Bác Hồ dạy.txt\"\n",
        "# Mở file ở chế độ ghi (sẽ tạo mới nếu chưa tồn tại)\n",
        "with open(file_path, 'w') as file:\n",
        "    # Ghi nội dung vào file\n",
        "    file.write(\"5 ĐIỀU BÁC HỒ DẠY\\n\")\n",
        "    file.write(\"1.Yêu Tổ quốc, yêu đồng bào.\\n\")\n",
        "    file.write(\"2.Học tập tốt, lao động tốt.\\n\")\n",
        "    file.write(\"3.Đoàn kết tốt, kỷ luật tốt.\\n\")\n",
        "    file.write(\"4.Giữ gìn vệ sinh thật tốt.\\n\")\n",
        "    file.write(\"5.Khiêm tốn, thật thà, dũng cảm\")\n",
        "\n",
        "print(f\"Nội dung đã được thêm!\")"
      ],
      "metadata": {
        "colab": {
          "base_uri": "https://localhost:8080/"
        },
        "id": "18ifXmZDWMJa",
        "outputId": "e9a24c92-ee44-4777-b6a3-c218c7079e28"
      },
      "execution_count": null,
      "outputs": [
        {
          "output_type": "stream",
          "name": "stdout",
          "text": [
            "Nội dung đã được thêm!\n"
          ]
        }
      ]
    },
    {
      "cell_type": "code",
      "source": [
        "file_path = \"/content/drive/MyDrive/NgonNguLapTrinh_PYTHON/Tuan2_87_Nguyễn Huỳnh Phương Uyên/example3.txt\"\n",
        "\n",
        "with open(file_path, \"r\") as f:\n",
        "    for i, line in enumerate(f, start=1):\n",
        "        print(line)\n"
      ],
      "metadata": {
        "colab": {
          "base_uri": "https://localhost:8080/"
        },
        "id": "nusxicUCU7VW",
        "outputId": "f777dc20-1283-4c4f-89e0-f67535ca1c48"
      },
      "execution_count": null,
      "outputs": [
        {
          "output_type": "stream",
          "name": "stdout",
          "text": [
            "Thuyền và biển\n",
            "\n",
            "Em sẽ kể anh nghe\n",
            "\n",
            "Chuyện con thuyền và biển:\n",
            "\n",
            "\n",
            "\n",
            "“Từ ngày nào chẳng biết\n",
            "\n",
            "Thuyền nghe lời biển khơi\n",
            "\n",
            "Cánh hải âu, sóng biếc\n",
            "\n",
            "Đưa thuyền đi muôn nơi\n",
            "\n",
            "\n",
            "\n",
            "Lòng thuyền nhiều khát vọng\n",
            "\n",
            "Và tình biển bao la\n",
            "\n",
            "Thuyền đi hoài không mỏi\n",
            "\n",
            "Biển vẫn xa... còn xa\n",
            "\n",
            "\n",
            "\n",
            "Những đêm trăng hiền từ\n",
            "\n",
            "Biển như cô gái nhỏ\n",
            "\n",
            "Thầm thì gửi tâm tư\n",
            "\n",
            "Quanh mạn thuyền sóng vỗ\n",
            "\n",
            "\n",
            "\n",
            "Cũng có khi vô cớ\n",
            "\n",
            "Biển ào ạt xô thuyền\n",
            "\n",
            "(Vì tình yêu muôn thuở\n",
            "\n",
            "Có bao giờ đứng yên?)\n",
            "\n",
            "\n",
            "\n",
            "Chỉ có thuyền mới hiểu\n",
            "\n",
            "Biển mênh mông nhường nào\n",
            "\n",
            "Chỉ có biển mới biết\n",
            "\n",
            "Thuyền đi đâu, về đâu\n",
            "\n",
            "\n",
            "\n",
            "Những ngày không gặp nhau\n",
            "\n",
            "Biển bạc đầu thương nhớ\n",
            "\n",
            "Những ngày không gặp nhau\n",
            "\n",
            "Lòng thuyền đau - rạn vỡ\n",
            "\n",
            "\n",
            "\n",
            "Nếu từ giã thuyền rồi\n",
            "\n",
            "Biển chỉ còn sóng gió”\n",
            "\n",
            "\n",
            "\n",
            "Nếu phải cách xa anh\n",
            "\n",
            "Em chỉ còn bão tố\n"
          ]
        }
      ]
    },
    {
      "cell_type": "code",
      "source": [
        "file_path = \"/content/drive/MyDrive/NgonNguLapTrinh_PYTHON/Tuan2_87_Nguyễn Huỳnh Phương Uyên/example.txt\"\n",
        "\n",
        "if os.path.exists(file_path):\n",
        "    os.remove(file_path)\n",
        "    print(\"Đã xóa file:\", file_path)\n",
        "else:\n",
        "    print(\"File không tồn tại.\")"
      ],
      "metadata": {
        "colab": {
          "base_uri": "https://localhost:8080/"
        },
        "id": "fBhyEwu0X6w-",
        "outputId": "57b210cc-0896-49f3-d6f7-663d73a87d45"
      },
      "execution_count": null,
      "outputs": [
        {
          "output_type": "stream",
          "name": "stdout",
          "text": [
            "Đã xóa file: /content/drive/MyDrive/NgonNguLapTrinh_PYTHON/Tuan2_87_Nguyễn Huỳnh Phương Uyên/example.txt\n"
          ]
        }
      ]
    },
    {
      "cell_type": "code",
      "source": [],
      "metadata": {
        "id": "breIA65CbnKb"
      },
      "execution_count": null,
      "outputs": []
    },
    {
      "cell_type": "markdown",
      "source": [
        "# BÀI THỰC HÀNH 2"
      ],
      "metadata": {
        "id": "AsBIh_pVaxQE"
      }
    },
    {
      "cell_type": "code",
      "source": [
        "# Bài 1: Tạo file bai1.txt\n",
        "file_path = \"/content/drive/MyDrive/NgonNguLapTrinh_PYTHON/Tuan2_87_Nguyễn Huỳnh Phương Uyên/bai1.txt\"\n",
        "\n",
        "# Bài 2: ghi file\n",
        "with open(file_path, 'w') as file:\n",
        "    # Ghi nội dung vào file\n",
        "    file.write(\"                               The Future for Computer Science Students\\n\")\n",
        "    file.write(\"The future for computer science students is full of opportunities and challenges. In the next decades, technology will continue to grow rapidly, and computer science will be at the center of this transformation. Students who are studying computer science today will play a key role in shaping how society uses technology tomorrow.\\n\")\n",
        "    file.write(\"Artificial Intelligence, Machine Learning, and Data Science are becoming essential in almost every field, from healthcare and education to business and entertainment. Future computer scientists will not only create new algorithms but also design systems that can solve real-world problems. For example, intelligent robots may help doctors with surgery, or smart applications may support teachers in personalizing lessons for students.\\n\")\n",
        "    file.write(\"Another important area is cybersecurity. As more personal and financial information moves online, protecting data will be one of the most critical tasks. Computer science students will need to understand how to build secure systems and defend against cyberattacks. \")\n",
        "print(f\"File đã được tạo tại: {file_path}\")\n"
      ],
      "metadata": {
        "colab": {
          "base_uri": "https://localhost:8080/"
        },
        "id": "NYFd48-Za5CR",
        "outputId": "b3b2dd24-ef8e-4a61-9645-10879772de89"
      },
      "execution_count": null,
      "outputs": [
        {
          "output_type": "stream",
          "name": "stdout",
          "text": [
            "File đã được tạo tại: /content/drive/MyDrive/NgonNguLapTrinh_PYTHON/Tuan2_87_Nguyễn Huỳnh Phương Uyên/bai1.txt\n"
          ]
        }
      ]
    },
    {
      "cell_type": "code",
      "source": [
        "# Bài 3\n",
        "# a. Đọc file\n",
        "file_path = \"/content/drive/MyDrive/NgonNguLapTrinh_PYTHON/Tuan2_87_Nguyễn Huỳnh Phương Uyên/input.txt\"\n",
        "\n",
        "with open(file_path, \"r\") as f:\n",
        "    for i, line in enumerate(f, start=1):\n",
        "        print(line)\n",
        "\n",
        "# b. Tìm số nguyên tố lớn hơn 17\n",
        "def is_prime(n):\n",
        "    if n < 2:\n",
        "        return False\n",
        "    for i in range(2, int(n**0.5) + 1):\n",
        "        if n % i == 0:\n",
        "            return False\n",
        "    return True\n",
        "\n",
        "numbers = []\n",
        "with open(file_path, \"r\") as f:\n",
        "    for line in f:\n",
        "        line = line.strip()\n",
        "        numbers.append(int(line))\n",
        "\n",
        "primes = [num for num in numbers if is_prime(num) and num > 17]\n",
        "\n",
        "print(\"Các số nguyên tố > 17 có trong file:\")\n",
        "print(primes)\n",
        "\n",
        "# c.Chia ra số chẵn và số lẻ\n",
        "even_numbers = [num for num in numbers if num % 2 == 0]\n",
        "odd_numbers = [num for num in numbers if num % 2 != 0]\n",
        "\n",
        "print(\"\\nSố chẵn:\")\n",
        "print(even_numbers)\n",
        "\n",
        "print(\"\\nSố lẻ:\")\n",
        "print(odd_numbers)\n",
        "\n",
        "# d.Sắp xếp các số theo thứ tự từ lớn đến bé xuất ra file và đặt tên là outputlonbe.txt\n",
        "file_outlb = \"/content/drive/MyDrive/NgonNguLapTrinh_PYTHON/Tuan2_87_Nguyễn Huỳnh Phương Uyên/outputlonbe.txt\"\n",
        "\n",
        "lonbe = sorted(numbers, reverse=True)\n",
        "with open(file_outlb, \"w\") as f:\n",
        "    for num in lonbe:\n",
        "        f.write(str(num) + \"\\n\")\n",
        "print(\"Đã ghi kết quả sắp xếp giảm dần vào:\", file_outlb)\n",
        "\n",
        "\n",
        "#e.Sắp xếp các số theo thứ tự từ bé đến lớn xuất ra file và đặt tên là outputbelon.txt\n",
        "file_outbl = \"/content/drive/MyDrive/NgonNguLapTrinh_PYTHON/Tuan2_87_Nguyễn Huỳnh Phương Uyên/outputbelon.txt\"\n",
        "\n",
        "belon = sorted(numbers)\n",
        "with open(file_outbl, \"w\") as f:\n",
        "    for num in belon:\n",
        "        f.write(str(num) + \"\\n\")\n",
        "print(\"Đã ghi kết quả sắp xếp tăng dần vào:\", file_outbl)\n"
      ],
      "metadata": {
        "colab": {
          "base_uri": "https://localhost:8080/"
        },
        "id": "W4hWRr-feEoR",
        "outputId": "26f4a29b-2633-4208-c7f0-4522cd18ecbf"
      },
      "execution_count": null,
      "outputs": [
        {
          "output_type": "stream",
          "name": "stdout",
          "text": [
            "0\n",
            "\n",
            "1\n",
            "\n",
            "3\n",
            "\n",
            "8\n",
            "\n",
            "28\n",
            "\n",
            "27\n",
            "\n",
            "17\n",
            "\n",
            "9\n",
            "\n",
            "7\n",
            "\n",
            "19\n",
            "\n",
            "29\n",
            "\n",
            "31\n",
            "\n",
            "37\n",
            "\n",
            "41\n",
            "\n",
            "2\n",
            "\n",
            "26\n",
            "\n",
            "27\n",
            "\n",
            "17\n",
            "\n",
            "9\n",
            "\n",
            "7\n",
            "\n",
            "10\n",
            "\n",
            "20\n",
            "\n",
            "30\n",
            "\n",
            "14\n",
            "\n",
            "46\n",
            "\n",
            "48\n",
            "\n",
            "99\n",
            "\n",
            "100\n",
            "\n",
            "211\n",
            "\n",
            "212\n",
            "\n",
            "221\n",
            "\n",
            "110\n",
            "\n",
            "57\n",
            "\n",
            "59\n",
            "\n",
            "52\n",
            "\n",
            "52\n",
            "\n",
            "18\n",
            "\n",
            "19\n",
            "\n",
            "17\n",
            "\n",
            "17\n",
            "\n",
            "19\n",
            "\n",
            "20\n",
            "\n",
            "16\n",
            "\n",
            "18\n",
            "\n",
            "Các số nguyên tố > 17 có trong file:\n",
            "[19, 29, 31, 37, 41, 211, 59, 19, 19]\n",
            "\n",
            "Số chẵn:\n",
            "[0, 8, 28, 2, 26, 10, 20, 30, 14, 46, 48, 100, 212, 110, 52, 52, 18, 20, 16, 18]\n",
            "\n",
            "Số lẻ:\n",
            "[1, 3, 27, 17, 9, 7, 19, 29, 31, 37, 41, 27, 17, 9, 7, 99, 211, 221, 57, 59, 19, 17, 17, 19]\n",
            "Đã ghi kết quả sắp xếp giảm dần vào: /content/drive/MyDrive/NgonNguLapTrinh_PYTHON/Tuan2_87_Nguyễn Huỳnh Phương Uyên/outputlonbe.txt\n",
            "Đã ghi kết quả sắp xếp tăng dần vào: /content/drive/MyDrive/NgonNguLapTrinh_PYTHON/Tuan2_87_Nguyễn Huỳnh Phương Uyên/outputbelon.txt\n"
          ]
        }
      ]
    },
    {
      "cell_type": "code",
      "source": [],
      "metadata": {
        "id": "LftD5RnLf-mw"
      },
      "execution_count": null,
      "outputs": []
    }
  ]
}